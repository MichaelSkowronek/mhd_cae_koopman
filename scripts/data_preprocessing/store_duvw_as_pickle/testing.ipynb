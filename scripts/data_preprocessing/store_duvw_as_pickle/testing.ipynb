{
 "cells": [
  {
   "cell_type": "code",
   "execution_count": 1,
   "id": "810830e3",
   "metadata": {},
   "outputs": [],
   "source": [
    "from pathlib import Path\n",
    "\n",
    "from mhd_cae_koopman.data_processing.utils import print_timeseries_info\n",
    "from mhd_cae_koopman.data_processing.utils import get_grid_dimensions\n",
    "from mhd_cae_koopman.utils import load_object"
   ]
  },
  {
   "cell_type": "code",
   "execution_count": null,
   "id": "88e9bd61",
   "metadata": {},
   "outputs": [],
   "source": [
    "ha = 300\n",
    "file_name = \"du.dat\"\n",
    "data_dir = Path(\"../../../../../../data\")"
   ]
  },
  {
   "cell_type": "code",
   "execution_count": 3,
   "id": "c03f073f",
   "metadata": {},
   "outputs": [
    {
     "name": "stdout",
     "output_type": "stream",
     "text": [
      "Object successfully loaded from /cephfs/users/skowronek/Documents/PhD/nuclear_fusion_cooling/data/re1000_ha300/3d/pkl/du.pkl\n",
      "\n",
      "==============================\n",
      "Timeseries Data Summary\n",
      "==============================\n",
      "Number of snapshots (time steps): 100\n",
      "Grid dimensions (nx, ny, nz):   541 x 91 x 91\n",
      "Number of points per snapshot:  4480021\n",
      "Number of variables:              6\n",
      "\n",
      "--- Variable Labels ---\n",
      "['x', 'y', 'z', 'du_dx', 'du_dy', 'du_dz']\n",
      "\n",
      "--- Data Preview (First 5 points of first snapshot) ---\n",
      "  Point 1 : [ 0. -1. -1.  0.  0.  0.]\n",
      "  Point 2 : [ 0.         -1.         -0.99458132  0.          0.          0.        ]\n",
      "  Point 3 : [ 0.         -1.         -0.98722071  0.          0.          0.        ]\n",
      "  Point 4 : [ 0.         -1.         -0.97793765  0.          0.          0.        ]\n",
      "  Point 5 : [ 0.         -1.         -0.96676442  0.          0.          0.        ]\n",
      "==============================\n"
     ]
    }
   ],
   "source": [
    "base_data_path = data_dir / f\"re1000_ha{ha}/3d/\"\n",
    "duvw_file_path = base_data_path / file_name\n",
    "pkl_file_name = Path(file_name).with_suffix('.pkl').name\n",
    "pkl_store_file_path = base_data_path / \"pkl\" / pkl_file_name\n",
    "output_path=pkl_store_file_path\n",
    "\n",
    "loaded_data = load_object(output_path)\n",
    "print_timeseries_info(loaded_data['timeseries'], loaded_data['labels'])\n",
    "num_timesteps, nx, ny, nz, num_variables = loaded_data['timeseries'].shape"
   ]
  },
  {
   "cell_type": "code",
   "execution_count": 4,
   "id": "1b414a4d",
   "metadata": {},
   "outputs": [],
   "source": [
    "reshaped = loaded_data['timeseries'].reshape(num_timesteps, nx, ny, nz, 6, order='C')"
   ]
  },
  {
   "cell_type": "code",
   "execution_count": 5,
   "id": "a66d7ba2",
   "metadata": {},
   "outputs": [
    {
     "data": {
      "text/plain": [
       "array([[ 0.        , -1.        , -1.        ],\n",
       "       [ 0.02327106, -1.        , -1.        ],\n",
       "       [ 0.04654211, -1.        , -1.        ],\n",
       "       [ 0.06981317, -1.        , -1.        ],\n",
       "       [ 0.09308423, -1.        , -1.        ]])"
      ]
     },
     "execution_count": 5,
     "metadata": {},
     "output_type": "execute_result"
    }
   ],
   "source": [
    "reshaped[0, :5, 0, 0, :3]"
   ]
  },
  {
   "cell_type": "code",
   "execution_count": 6,
   "id": "593a0dcd",
   "metadata": {},
   "outputs": [
    {
     "data": {
      "text/plain": [
       "array([[ 0.        , -1.        , -1.        ],\n",
       "       [ 0.        , -0.99458132, -1.        ],\n",
       "       [ 0.        , -0.98722071, -1.        ],\n",
       "       [ 0.        , -0.97793765, -1.        ],\n",
       "       [ 0.        , -0.96676442, -1.        ]])"
      ]
     },
     "execution_count": 6,
     "metadata": {},
     "output_type": "execute_result"
    }
   ],
   "source": [
    "reshaped[0, 0, :5, 0, :3]"
   ]
  },
  {
   "cell_type": "code",
   "execution_count": 7,
   "id": "bc927e79",
   "metadata": {},
   "outputs": [
    {
     "data": {
      "text/plain": [
       "array([[ 0.        , -1.        , -1.        ],\n",
       "       [ 0.        , -1.        , -0.99458132],\n",
       "       [ 0.        , -1.        , -0.98722071],\n",
       "       [ 0.        , -1.        , -0.97793765],\n",
       "       [ 0.        , -1.        , -0.96676442]])"
      ]
     },
     "execution_count": 7,
     "metadata": {},
     "output_type": "execute_result"
    }
   ],
   "source": [
    "reshaped[0, 0, 0, :5, :3]"
   ]
  },
  {
   "cell_type": "code",
   "execution_count": 8,
   "id": "b6a784d2",
   "metadata": {},
   "outputs": [],
   "source": [
    "reshaped = loaded_data['timeseries'].reshape(num_timesteps, nx, ny, nz, num_variables, order='F')"
   ]
  },
  {
   "cell_type": "code",
   "execution_count": 9,
   "id": "7ee6be1e",
   "metadata": {},
   "outputs": [
    {
     "data": {
      "text/plain": [
       "array([[ 0.        , -1.        , -1.        ],\n",
       "       [ 0.02327106, -1.        , -1.        ],\n",
       "       [ 0.04654211, -1.        , -1.        ],\n",
       "       [ 0.06981317, -1.        , -1.        ],\n",
       "       [ 0.09308423, -1.        , -1.        ]])"
      ]
     },
     "execution_count": 9,
     "metadata": {},
     "output_type": "execute_result"
    }
   ],
   "source": [
    "reshaped[0, :5, 0, 0, :3]"
   ]
  },
  {
   "cell_type": "code",
   "execution_count": 10,
   "id": "d1f48e85",
   "metadata": {},
   "outputs": [
    {
     "data": {
      "text/plain": [
       "array([[ 0.        , -1.        , -1.        ],\n",
       "       [ 0.        , -0.99458132, -1.        ],\n",
       "       [ 0.        , -0.98722071, -1.        ],\n",
       "       [ 0.        , -0.97793765, -1.        ],\n",
       "       [ 0.        , -0.96676442, -1.        ]])"
      ]
     },
     "execution_count": 10,
     "metadata": {},
     "output_type": "execute_result"
    }
   ],
   "source": [
    "reshaped[0, 0, :5, 0, :3]"
   ]
  },
  {
   "cell_type": "code",
   "execution_count": 11,
   "id": "88e5cd6f",
   "metadata": {},
   "outputs": [
    {
     "data": {
      "text/plain": [
       "array([[ 0.        , -1.        , -1.        ],\n",
       "       [ 0.        , -1.        , -0.99458132],\n",
       "       [ 0.        , -1.        , -0.98722071],\n",
       "       [ 0.        , -1.        , -0.97793765],\n",
       "       [ 0.        , -1.        , -0.96676442]])"
      ]
     },
     "execution_count": 11,
     "metadata": {},
     "output_type": "execute_result"
    }
   ],
   "source": [
    "reshaped[0, 0, 0, :5, :3]"
   ]
  },
  {
   "cell_type": "code",
   "execution_count": 12,
   "id": "724a71c1",
   "metadata": {},
   "outputs": [],
   "source": [
    "zyx = loaded_data['timeseries'].reshape((num_timesteps, nz, ny, nx, num_variables), order='C')"
   ]
  },
  {
   "cell_type": "code",
   "execution_count": 13,
   "id": "be34608f",
   "metadata": {},
   "outputs": [
    {
     "data": {
      "text/plain": [
       "array([[ 0.        , -1.        , -1.        ],\n",
       "       [ 0.11635528,  0.96676442, -1.        ],\n",
       "       [ 0.25598162,  0.88451809, -1.        ],\n",
       "       [ 0.39560796,  0.76629394, -1.        ],\n",
       "       [ 0.5352343 ,  0.62648942, -1.        ]])"
      ]
     },
     "execution_count": 13,
     "metadata": {},
     "output_type": "execute_result"
    }
   ],
   "source": [
    "zyx[0, :5, 0, 0, :3]"
   ]
  },
  {
   "cell_type": "code",
   "execution_count": 14,
   "id": "96d7f9c0",
   "metadata": {},
   "outputs": [
    {
     "data": {
      "text/plain": [
       "array([[ 0.        , -1.        , -1.        ],\n",
       "       [ 0.        , -0.95374575,  0.96676442],\n",
       "       [ 0.        , -0.84081347,  0.88451809],\n",
       "       [ 0.        , -0.68397958,  0.76629394],\n",
       "       [ 0.        , -0.50972415,  0.62648942]])"
      ]
     },
     "execution_count": 14,
     "metadata": {},
     "output_type": "execute_result"
    }
   ],
   "source": [
    "zyx[0, 0, :5, 0, :3]"
   ]
  },
  {
   "cell_type": "code",
   "execution_count": 15,
   "id": "75d0f182",
   "metadata": {},
   "outputs": [
    {
     "data": {
      "text/plain": [
       "array([[ 0.        , -1.        , -1.        ],\n",
       "       [ 0.        , -1.        , -0.99458132],\n",
       "       [ 0.        , -1.        , -0.98722071],\n",
       "       [ 0.        , -1.        , -0.97793765],\n",
       "       [ 0.        , -1.        , -0.96676442]])"
      ]
     },
     "execution_count": 15,
     "metadata": {},
     "output_type": "execute_result"
    }
   ],
   "source": [
    "zyx[0, 0, 0, :5, :3]"
   ]
  },
  {
   "cell_type": "code",
   "execution_count": 16,
   "id": "ec77036a",
   "metadata": {},
   "outputs": [],
   "source": [
    "num_points = nz * ny * nx\n",
    "zyx_C = loaded_data['timeseries'].reshape((num_timesteps, nz, ny, nx, num_variables), order='C')\n",
    "xyz_view_on_zyx_C = zyx_C.transpose(0, 3, 2, 1, 4)\n",
    "data_C_ordered = xyz_view_on_zyx_C.reshape((num_timesteps, num_points, num_variables), order='C')\n",
    "xyz_C = data_C_ordered.reshape((num_timesteps, nx, ny, nz, num_variables))"
   ]
  },
  {
   "cell_type": "code",
   "execution_count": 17,
   "id": "deea0a14",
   "metadata": {},
   "outputs": [
    {
     "data": {
      "text/plain": [
       "array([[ 0.        , -1.        , -1.        ],\n",
       "       [ 0.        , -1.        , -0.99458132],\n",
       "       [ 0.        , -1.        , -0.98722071],\n",
       "       [ 0.        , -1.        , -0.97793765],\n",
       "       [ 0.        , -1.        , -0.96676442]])"
      ]
     },
     "execution_count": 17,
     "metadata": {},
     "output_type": "execute_result"
    }
   ],
   "source": [
    "xyz_C[0, :5, 0, 0, :3]"
   ]
  },
  {
   "cell_type": "code",
   "execution_count": 18,
   "id": "8460112a",
   "metadata": {},
   "outputs": [
    {
     "data": {
      "text/plain": [
       "array([[ 0.        , -1.        , -1.        ],\n",
       "       [ 0.        , -0.95374575,  0.96676442],\n",
       "       [ 0.        , -0.84081347,  0.88451809],\n",
       "       [ 0.        , -0.68397958,  0.76629394],\n",
       "       [ 0.        , -0.50972415,  0.62648942]])"
      ]
     },
     "execution_count": 18,
     "metadata": {},
     "output_type": "execute_result"
    }
   ],
   "source": [
    "xyz_C[0, 0, :5, 0, :3]"
   ]
  },
  {
   "cell_type": "code",
   "execution_count": 19,
   "id": "5eb339ea",
   "metadata": {},
   "outputs": [
    {
     "data": {
      "text/plain": [
       "array([[ 0.        , -1.        , -1.        ],\n",
       "       [ 0.11635528,  0.96676442, -1.        ],\n",
       "       [ 0.25598162,  0.88451809, -1.        ],\n",
       "       [ 0.39560796,  0.76629394, -1.        ],\n",
       "       [ 0.5352343 ,  0.62648942, -1.        ]])"
      ]
     },
     "execution_count": 19,
     "metadata": {},
     "output_type": "execute_result"
    }
   ],
   "source": [
    "xyz_C[0, 0, 0, :5, :3]"
   ]
  }
 ],
 "metadata": {
  "kernelspec": {
   "display_name": "mhd_cae_koopman",
   "language": "python",
   "name": "python3"
  },
  "language_info": {
   "codemirror_mode": {
    "name": "ipython",
    "version": 3
   },
   "file_extension": ".py",
   "mimetype": "text/x-python",
   "name": "python",
   "nbconvert_exporter": "python",
   "pygments_lexer": "ipython3",
   "version": "3.12.11"
  }
 },
 "nbformat": 4,
 "nbformat_minor": 5
}
