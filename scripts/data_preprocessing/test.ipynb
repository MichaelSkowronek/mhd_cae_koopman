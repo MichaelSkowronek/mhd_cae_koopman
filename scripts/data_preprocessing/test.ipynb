{
 "cells": [
  {
   "cell_type": "code",
   "execution_count": 2,
   "id": "06fb7e31",
   "metadata": {},
   "outputs": [
    {
     "name": "stdout",
     "output_type": "stream",
     "text": [
      "Object successfully loaded from /cephfs/users/skowronek/Documents/PhD/nuclear_fusion_cooling/data/re1000_ha300/3d/pkl/du.pkl\n",
      "\n",
      "==============================\n",
      "Timeseries Data Summary\n",
      "==============================\n",
      "Number of snapshots (time steps): 100\n",
      "Number of points per snapshot:    4480021\n",
      "Number of variables:              6\n",
      "Calculated grid dimensions:       541 x 91 x 91 (using indices (0, 1, 2))\n",
      "\n",
      "--- Variable Labels ---\n",
      "['x', 'y', 'z', 'du_dx', 'du_dy', 'du_dz']\n",
      "\n",
      "--- Data Preview (First 5 points of first snapshot) ---\n",
      "  Point 1 : [ 0. -1. -1.  0.  0.  0.]\n",
      "  Point 2 : [ 0.02327106 -1.         -1.          0.          0.          0.        ]\n",
      "  Point 3 : [ 0.04654211 -1.         -1.          0.          0.          0.        ]\n",
      "  Point 4 : [ 0.06981317 -1.         -1.          0.          0.          0.        ]\n",
      "  Point 5 : [ 0.09308423 -1.         -1.          0.          0.          0.        ]\n",
      "==============================\n"
     ]
    }
   ],
   "source": [
    "from pathlib import Path\n",
    "\n",
    "from mhd_cae_koopman.data_processing.utils import print_timeseries_info\n",
    "from mhd_cae_koopman.data_processing.utils import get_grid_dimensions\n",
    "from mhd_cae_koopman.utils import load_object\n",
    "\n",
    "ha = 300\n",
    "file_name = \"du.dat\"\n",
    "data_dir = Path(\"../../../../../data\")\n",
    "\n",
    "base_data_path = data_dir / f\"re1000_ha{ha}/3d/\"\n",
    "duvw_file_path = base_data_path / file_name\n",
    "pkl_file_name = Path(file_name).with_suffix('.pkl').name\n",
    "pkl_store_file_path = base_data_path / \"pkl\" / pkl_file_name\n",
    "output_path=pkl_store_file_path\n",
    "\n",
    "loaded_data = load_object(output_path)\n",
    "print_timeseries_info(loaded_data['timeseries'], loaded_data['labels'])\n",
    "nx, ny, nz = get_grid_dimensions(loaded_data['timeseries'])"
   ]
  },
  {
   "cell_type": "code",
   "execution_count": 3,
   "id": "1b414a4d",
   "metadata": {},
   "outputs": [],
   "source": [
    "reshaped = loaded_data['timeseries'].reshape(100, nx, ny, nz, 6, order='C')"
   ]
  },
  {
   "cell_type": "code",
   "execution_count": 4,
   "id": "a66d7ba2",
   "metadata": {},
   "outputs": [
    {
     "data": {
      "text/plain": [
       "array([[ 0.00000000e+00, -1.00000000e+00, -1.00000000e+00],\n",
       "       [ 3.86299541e+00, -7.39551116e-01, -1.00000000e+00],\n",
       "       [ 7.72599082e+00, -3.16666667e-01, -1.00000000e+00],\n",
       "       [ 1.15889862e+01,  3.16118792e-17, -1.00000000e+00],\n",
       "       [ 2.86233997e+00,  3.42602407e-01, -1.00000000e+00]])"
      ]
     },
     "execution_count": 4,
     "metadata": {},
     "output_type": "execute_result"
    }
   ],
   "source": [
    "reshaped[0, :5, 0, 0, :3]"
   ]
  },
  {
   "cell_type": "code",
   "execution_count": 5,
   "id": "593a0dcd",
   "metadata": {},
   "outputs": [
    {
     "data": {
      "text/plain": [
       "array([[ 0.        , -1.        , -1.        ],\n",
       "       [ 2.11766616, -1.        , -1.        ],\n",
       "       [ 4.23533232, -1.        , -1.        ],\n",
       "       [ 6.35299848, -1.        , -1.        ],\n",
       "       [ 8.47066464, -1.        , -1.        ]])"
      ]
     },
     "execution_count": 5,
     "metadata": {},
     "output_type": "execute_result"
    }
   ],
   "source": [
    "reshaped[0, 0, :5, 0, :3]"
   ]
  },
  {
   "cell_type": "code",
   "execution_count": 6,
   "id": "bc927e79",
   "metadata": {},
   "outputs": [
    {
     "data": {
      "text/plain": [
       "array([[ 0.        , -1.        , -1.        ],\n",
       "       [ 0.02327106, -1.        , -1.        ],\n",
       "       [ 0.04654211, -1.        , -1.        ],\n",
       "       [ 0.06981317, -1.        , -1.        ],\n",
       "       [ 0.09308423, -1.        , -1.        ]])"
      ]
     },
     "execution_count": 6,
     "metadata": {},
     "output_type": "execute_result"
    }
   ],
   "source": [
    "reshaped[0, 0, 0, :5, :3]"
   ]
  },
  {
   "cell_type": "code",
   "execution_count": 7,
   "id": "b6a784d2",
   "metadata": {},
   "outputs": [],
   "source": [
    "reshaped = loaded_data['timeseries'].reshape(100, nx, ny, nz, 6, order='F')"
   ]
  },
  {
   "cell_type": "code",
   "execution_count": 8,
   "id": "7ee6be1e",
   "metadata": {},
   "outputs": [
    {
     "data": {
      "text/plain": [
       "array([[ 0.        , -1.        , -1.        ],\n",
       "       [ 0.02327106, -1.        , -1.        ],\n",
       "       [ 0.04654211, -1.        , -1.        ],\n",
       "       [ 0.06981317, -1.        , -1.        ],\n",
       "       [ 0.09308423, -1.        , -1.        ]])"
      ]
     },
     "execution_count": 8,
     "metadata": {},
     "output_type": "execute_result"
    }
   ],
   "source": [
    "reshaped[0, :5, 0, 0, :3]"
   ]
  },
  {
   "cell_type": "code",
   "execution_count": 9,
   "id": "d1f48e85",
   "metadata": {},
   "outputs": [
    {
     "data": {
      "text/plain": [
       "array([[ 0.        , -1.        , -1.        ],\n",
       "       [ 0.        , -0.99458132, -1.        ],\n",
       "       [ 0.        , -0.98722071, -1.        ],\n",
       "       [ 0.        , -0.97793765, -1.        ],\n",
       "       [ 0.        , -0.96676442, -1.        ]])"
      ]
     },
     "execution_count": 9,
     "metadata": {},
     "output_type": "execute_result"
    }
   ],
   "source": [
    "reshaped[0, 0, :5, 0, :3]"
   ]
  },
  {
   "cell_type": "code",
   "execution_count": 10,
   "id": "88e5cd6f",
   "metadata": {},
   "outputs": [
    {
     "data": {
      "text/plain": [
       "array([[ 0.        , -1.        , -1.        ],\n",
       "       [ 0.        , -1.        , -0.99458132],\n",
       "       [ 0.        , -1.        , -0.98722071],\n",
       "       [ 0.        , -1.        , -0.97793765],\n",
       "       [ 0.        , -1.        , -0.96676442]])"
      ]
     },
     "execution_count": 10,
     "metadata": {},
     "output_type": "execute_result"
    }
   ],
   "source": [
    "reshaped[0, 0, 0, :5, :3]"
   ]
  },
  {
   "cell_type": "code",
   "execution_count": 11,
   "id": "724a71c1",
   "metadata": {},
   "outputs": [],
   "source": [
    "reshaped = loaded_data['timeseries'].reshape(100, nz, ny, nx, 6, order='F')"
   ]
  },
  {
   "cell_type": "code",
   "execution_count": 15,
   "id": "be34608f",
   "metadata": {},
   "outputs": [
    {
     "data": {
      "text/plain": [
       "array([[ 0.        , -1.        , -1.        ],\n",
       "       [ 0.02327106, -1.        , -1.        ],\n",
       "       [ 0.04654211, -1.        , -1.        ],\n",
       "       [ 0.06981317, -1.        , -1.        ],\n",
       "       [ 0.09308423, -1.        , -1.        ]])"
      ]
     },
     "execution_count": 15,
     "metadata": {},
     "output_type": "execute_result"
    }
   ],
   "source": [
    "reshaped[0, :5, 0, 0, :3]"
   ]
  },
  {
   "cell_type": "code",
   "execution_count": 16,
   "id": "96d7f9c0",
   "metadata": {},
   "outputs": [
    {
     "data": {
      "text/plain": [
       "array([[ 0.        , -1.        , -1.        ],\n",
       "       [ 2.11766616, -1.        , -1.        ],\n",
       "       [ 4.23533232, -1.        , -1.        ],\n",
       "       [ 6.35299848, -1.        , -1.        ],\n",
       "       [ 8.47066464, -1.        , -1.        ]])"
      ]
     },
     "execution_count": 16,
     "metadata": {},
     "output_type": "execute_result"
    }
   ],
   "source": [
    "reshaped[0, 0, :5, 0, :3]"
   ]
  },
  {
   "cell_type": "code",
   "execution_count": 17,
   "id": "75d0f182",
   "metadata": {},
   "outputs": [
    {
     "data": {
      "text/plain": [
       "array([[ 0.00000000e+00, -1.00000000e+00, -1.00000000e+00],\n",
       "       [ 3.86299541e+00, -7.39551116e-01, -1.00000000e+00],\n",
       "       [ 7.72599082e+00, -3.16666667e-01, -1.00000000e+00],\n",
       "       [ 1.15889862e+01,  3.16118792e-17, -1.00000000e+00],\n",
       "       [ 2.86233997e+00,  3.42602407e-01, -1.00000000e+00]])"
      ]
     },
     "execution_count": 17,
     "metadata": {},
     "output_type": "execute_result"
    }
   ],
   "source": [
    "reshaped[0, 0, 0, :5, :3]"
   ]
  }
 ],
 "metadata": {
  "kernelspec": {
   "display_name": "mhd_cae_koopman",
   "language": "python",
   "name": "python3"
  },
  "language_info": {
   "codemirror_mode": {
    "name": "ipython",
    "version": 3
   },
   "file_extension": ".py",
   "mimetype": "text/x-python",
   "name": "python",
   "nbconvert_exporter": "python",
   "pygments_lexer": "ipython3",
   "version": "3.12.11"
  }
 },
 "nbformat": 4,
 "nbformat_minor": 5
}
