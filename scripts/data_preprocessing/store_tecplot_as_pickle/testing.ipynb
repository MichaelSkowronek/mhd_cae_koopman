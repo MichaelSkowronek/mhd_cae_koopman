{
 "cells": [
  {
   "cell_type": "markdown",
   "metadata": {},
   "source": [
    "# store_tecplot_as_pickle"
   ]
  },
  {
   "cell_type": "markdown",
   "metadata": {},
   "source": [
    "### TODO\n",
    "\n",
    "- NOT UP TO DATA"
   ]
  },
  {
   "cell_type": "markdown",
   "metadata": {},
   "source": [
    "### Imports"
   ]
  },
  {
   "cell_type": "code",
   "execution_count": 1,
   "metadata": {},
   "outputs": [],
   "source": [
    "from pathlib import Path\n",
    "\n",
    "\n",
    "from mhd_cae_koopman.utils import save_object\n",
    "from mhd_cae_koopman.utils import load_object\n",
    "\n",
    "from mhd_cae_koopman.data_processing.tecplot_data import parse_tecplot_timeseries\n",
    "from mhd_cae_koopman.data_processing.utils import print_timeseries_info"
   ]
  },
  {
   "cell_type": "markdown",
   "metadata": {},
   "source": [
    "### General Args"
   ]
  },
  {
   "cell_type": "code",
   "execution_count": 2,
   "metadata": {},
   "outputs": [],
   "source": [
    "Ha = 300\n",
    "file_name = \"vxyz_jxyz_p_f\"\n",
    "# file_name = \"dv\"\n",
    "\n",
    "data_dir = Path(f\"../../../../../../data/re1000_ha{Ha}/3d/\")\n",
    "tecplot_file_path = data_dir / Path(f\"{file_name}.dat\")\n",
    "    \n",
    "pkl_store_file_path = data_dir / Path(f\"pkl/{file_name}.pkl\")\n",
    "\n",
    "print_loaded_data_example_ = True"
   ]
  },
  {
   "cell_type": "markdown",
   "metadata": {},
   "source": [
    "### Testing on Truncated Data"
   ]
  },
  {
   "cell_type": "code",
   "execution_count": 3,
   "metadata": {},
   "outputs": [
    {
     "name": "stdout",
     "output_type": "stream",
     "text": [
      "Truncated file created at\n",
      "/cephfs/users/skowronek/Documents/PhD/nuclear_fusion_cooling/data/re1000_ha300/3d/vxyz_jxyz_p_f_truncated.dat\n",
      "from original file at\n",
      "/cephfs/users/skowronek/Documents/PhD/nuclear_fusion_cooling/data/re1000_ha300/3d/vxyz_jxyz_p_f.dat\n"
     ]
    }
   ],
   "source": [
    "from mhd_cae_koopman.data_processing.utils import truncate_file_at_line\n",
    "\n",
    "pkl_store_file_path = data_dir / Path(f\"pkl/{file_name}_truncated.pkl\")\n",
    "\n",
    "if Ha == 300:\n",
    "    snapshot_length = 4488305\n",
    "elif Ha == 500:\n",
    "    snapshot_length = 4488305  # Test it\n",
    "elif Ha == 700:\n",
    "    snapshot_length = 5438405\n",
    "elif Ha == 1000:\n",
    "    snapshot_length = 5438405\n",
    "\n",
    "n_snapshots = 2\n",
    "\n",
    "tecplot_file_path = truncate_file_at_line(\n",
    "    filepath=tecplot_file_path,\n",
    "    line_number=snapshot_length * n_snapshots,\n",
    ")"
   ]
  },
  {
   "cell_type": "code",
   "execution_count": 4,
   "metadata": {},
   "outputs": [],
   "source": [
    "# pkl_store_file_path = data_dir / Path(f\"pkl/{file_name}_truncated.pkl\")\n",
    "# # tecplot_file_path = Path(fr\"C:\\Users\\hydro\\Documents\\PhD\\nuclear_fusion_cooling\\data\\re1000_ha{Ha}\\3d\\{file_name}_truncated.dat\")\n",
    "# tecplot_file_path = Path(fr\"/cephfs/users/skowronek/Documents/PhD/nuclear_fusion_cooling/data/re1000_ha{Ha}/3d/{file_name}_truncated.dat\")"
   ]
  },
  {
   "cell_type": "markdown",
   "metadata": {},
   "source": [
    "### Load"
   ]
  },
  {
   "cell_type": "code",
   "execution_count": 5,
   "metadata": {},
   "outputs": [
    {
     "name": "stdout",
     "output_type": "stream",
     "text": [
      "Starting memory-efficient parsing of: /cephfs/users/skowronek/Documents/PhD/nuclear_fusion_cooling/data/re1000_ha300/3d/vxyz_jxyz_p_f_truncated.dat\n",
      "Using data type: float64\n",
      "Performing first pass to count lines for progress bar...\n"
     ]
    },
    {
     "name": "stderr",
     "output_type": "stream",
     "text": [
      "Reading Tecplot File:   1%|          | 98145/8976610 [00:00<00:30, 291887.87lines/s]"
     ]
    },
    {
     "name": "stdout",
     "output_type": "stream",
     "text": [
      "\n",
      "Found headers: ['x', 'y', 'z', 'vx', 'vy', 'vz', 'jx', 'jy', 'jz', 'P', 'F']\n"
     ]
    },
    {
     "name": "stderr",
     "output_type": "stream",
     "text": [
      "Reading Tecplot File: 100%|██████████| 8976610/8976610 [00:36<00:00, 247207.57lines/s]\n"
     ]
    },
    {
     "name": "stdout",
     "output_type": "stream",
     "text": [
      "\n",
      "All snapshots processed. Stacking into a final 3D array...\n"
     ]
    },
    {
     "name": "stderr",
     "output_type": "stream",
     "text": [
      "Stacking Snapshots: 100%|██████████| 2/2 [00:00<00:00, 49344.75it/s]"
     ]
    },
    {
     "name": "stdout",
     "output_type": "stream",
     "text": [
      "Stacking complete.\n",
      "Data parsed successfully from path: /cephfs/users/skowronek/Documents/PhD/nuclear_fusion_cooling/data/re1000_ha300/3d/vxyz_jxyz_p_f_truncated.dat\n"
     ]
    },
    {
     "name": "stderr",
     "output_type": "stream",
     "text": [
      "\n"
     ]
    },
    {
     "name": "stdout",
     "output_type": "stream",
     "text": [
      "\n",
      "==============================\n",
      "Timeseries Data Summary\n",
      "==============================\n",
      "Number of snapshots (time steps): 2\n",
      "Number of points per snapshot:    4480021\n",
      "Number of variables:              11\n",
      "Calculated grid dimensions:       541 x 91 x 91 (using indices (0, 1, 2))\n",
      "\n",
      "--- Variable Labels ---\n",
      "['x', 'y', 'z', 'vx', 'vy', 'vz', 'jx', 'jy', 'jz', 'P', 'F']\n",
      "\n",
      "--- Data Preview (First 5 points of first snapshot) ---\n",
      "  Point 1 : [ 0.000000e+00 -1.000000e+00 -1.000000e+00  0.000000e+00  0.000000e+00\n",
      "  0.000000e+00 -1.464999e-19  0.000000e+00  0.000000e+00 -4.031829e-04\n",
      "  1.353023e+00]\n",
      "  Point 2 : [ 2.327106e-02 -1.000000e+00 -1.000000e+00  0.000000e+00  0.000000e+00\n",
      "  0.000000e+00  8.869907e-02  0.000000e+00  0.000000e+00 -3.996179e-04\n",
      "  1.352057e+00]\n",
      "  Point 3 : [ 4.654211e-02 -1.000000e+00 -1.000000e+00  0.000000e+00  0.000000e+00\n",
      "  0.000000e+00  1.778942e-01  0.000000e+00  0.000000e+00 -3.986544e-04\n",
      "  1.348849e+00]\n",
      "  Point 4 : [ 6.981317e-02 -1.000000e+00 -1.000000e+00  0.000000e+00  0.000000e+00\n",
      "  0.000000e+00  1.965593e-01  0.000000e+00  0.000000e+00 -4.007815e-04\n",
      "  1.344313e+00]\n",
      "  Point 5 : [ 9.308423e-02 -1.000000e+00 -1.000000e+00  0.000000e+00  0.000000e+00\n",
      "  0.000000e+00  1.472270e-01  0.000000e+00  0.000000e+00 -4.046824e-04\n",
      "  1.340216e+00]\n",
      "==============================\n"
     ]
    }
   ],
   "source": [
    "data = {}\n",
    "(\n",
    "    data['timeseries'],\n",
    "    data['labels'],\n",
    ") = parse_tecplot_timeseries(tecplot_file_path)\n",
    "if print_loaded_data_example_ is True:\n",
    "    print_timeseries_info(data['timeseries'], data['labels'])"
   ]
  },
  {
   "cell_type": "markdown",
   "metadata": {},
   "source": [
    "### Store"
   ]
  },
  {
   "cell_type": "code",
   "execution_count": 6,
   "metadata": {},
   "outputs": [
    {
     "name": "stdout",
     "output_type": "stream",
     "text": [
      "Object successfully saved to /cephfs/users/skowronek/Documents/PhD/nuclear_fusion_cooling/data/re1000_ha300/3d/pkl/vxyz_jxyz_p_f_truncated.pkl\n"
     ]
    }
   ],
   "source": [
    "save_object(data, pkl_store_file_path)"
   ]
  },
  {
   "cell_type": "markdown",
   "metadata": {},
   "source": [
    "### Verification"
   ]
  },
  {
   "cell_type": "code",
   "execution_count": 7,
   "metadata": {},
   "outputs": [
    {
     "name": "stdout",
     "output_type": "stream",
     "text": [
      "Object successfully loaded from /cephfs/users/skowronek/Documents/PhD/nuclear_fusion_cooling/data/re1000_ha300/3d/pkl/vxyz_jxyz_p_f_truncated.pkl\n",
      "\n",
      "==============================\n",
      "Timeseries Data Summary\n",
      "==============================\n",
      "Number of snapshots (time steps): 2\n",
      "Number of points per snapshot:    4480021\n",
      "Number of variables:              11\n",
      "Calculated grid dimensions:       541 x 91 x 91 (using indices (0, 1, 2))\n",
      "\n",
      "--- Variable Labels ---\n",
      "['x', 'y', 'z', 'vx', 'vy', 'vz', 'jx', 'jy', 'jz', 'P', 'F']\n",
      "\n",
      "--- Data Preview (First 5 points of first snapshot) ---\n",
      "  Point 1 : [ 0.000000e+00 -1.000000e+00 -1.000000e+00  0.000000e+00  0.000000e+00\n",
      "  0.000000e+00 -1.464999e-19  0.000000e+00  0.000000e+00 -4.031829e-04\n",
      "  1.353023e+00]\n",
      "  Point 2 : [ 2.327106e-02 -1.000000e+00 -1.000000e+00  0.000000e+00  0.000000e+00\n",
      "  0.000000e+00  8.869907e-02  0.000000e+00  0.000000e+00 -3.996179e-04\n",
      "  1.352057e+00]\n",
      "  Point 3 : [ 4.654211e-02 -1.000000e+00 -1.000000e+00  0.000000e+00  0.000000e+00\n",
      "  0.000000e+00  1.778942e-01  0.000000e+00  0.000000e+00 -3.986544e-04\n",
      "  1.348849e+00]\n",
      "  Point 4 : [ 6.981317e-02 -1.000000e+00 -1.000000e+00  0.000000e+00  0.000000e+00\n",
      "  0.000000e+00  1.965593e-01  0.000000e+00  0.000000e+00 -4.007815e-04\n",
      "  1.344313e+00]\n",
      "  Point 5 : [ 9.308423e-02 -1.000000e+00 -1.000000e+00  0.000000e+00  0.000000e+00\n",
      "  0.000000e+00  1.472270e-01  0.000000e+00  0.000000e+00 -4.046824e-04\n",
      "  1.340216e+00]\n",
      "==============================\n"
     ]
    }
   ],
   "source": [
    "loaded_data = load_object(pkl_store_file_path)\n",
    "print_timeseries_info(loaded_data['timeseries'], loaded_data['labels'])"
   ]
  }
 ],
 "metadata": {
  "kernelspec": {
   "display_name": "mhd_cae_koopman",
   "language": "python",
   "name": "python3"
  },
  "language_info": {
   "codemirror_mode": {
    "name": "ipython",
    "version": 3
   },
   "file_extension": ".py",
   "mimetype": "text/x-python",
   "name": "python",
   "nbconvert_exporter": "python",
   "pygments_lexer": "ipython3",
   "version": "3.12.11"
  }
 },
 "nbformat": 4,
 "nbformat_minor": 2
}
