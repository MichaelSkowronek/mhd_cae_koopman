{
 "cells": [
  {
   "cell_type": "markdown",
   "metadata": {},
   "source": [
    "# LR"
   ]
  },
  {
   "cell_type": "markdown",
   "metadata": {},
   "source": [
    "### Imports"
   ]
  },
  {
   "cell_type": "code",
   "execution_count": 1,
   "metadata": {},
   "outputs": [],
   "source": [
    "from pathlib import Path\n",
    "import matplotlib.pyplot as plt\n",
    "\n",
    "import numpy as np\n",
    "from numpy.lib.stride_tricks import sliding_window_view\n",
    "\n",
    "from sklearn.linear_model import Ridge\n",
    "from sklearn.metrics import mean_squared_error\n",
    "from sklearn.model_selection import train_test_split\n",
    "from sklearn.preprocessing import StandardScaler\n",
    "\n",
    "\n",
    "from ppvm_py.utils import load_object\n",
    "from ppvm_py.utils import zero_smallest_absolute_to_meet_ratio\n",
    "\n",
    "\n",
    "from ppvm_py.plotting import plot_timeseries\n",
    "from ppvm_py.plotting import plot_heatmap\n",
    "from ppvm_py.plotting import generate_2d_video\n",
    "from ppvm_py.plotting import plot_histogram\n",
    "\n",
    "from ppvm_py.data_processing.patt_fld8v import print_xyz_slice_example_from_parsed_data\n",
    "\n",
    "from ppvm_py.data_processing.utils import generate_coord_nd\n",
    "from ppvm_py.data_processing.utils import create_index_to_coord_map\n",
    "\n",
    "from ppvm_py.feature_generation.sdc import compute_symmetric_difference_coefficients_with_index_to_coord_map\n",
    "\n",
    "from ppvm_py.data_utils_3d import find_closest_coordinate_index"
   ]
  },
  {
   "cell_type": "markdown",
   "metadata": {},
   "source": [
    "### General Args"
   ]
  },
  {
   "cell_type": "code",
   "execution_count": 2,
   "metadata": {},
   "outputs": [],
   "source": [
    "# IMPORTANT: Restart Kernel when swapping datasets to reload them!\n",
    "Ha = 300\n",
    "\n",
    "if Ha == 300:\n",
    "    patt_fld8v_folder_path = Path(\"../../../../../data/4pi_re1000_ha300.360_ch28.p1/patt_fld8v/\")\n",
    "elif Ha == 1000:\n",
    "    patt_fld8v_folder_path = Path(\"../../../../../data/4pi_re1000_ha1000.384.pi/patt_fld8v/\")\n",
    "\n",
    "fld_path = patt_fld8v_folder_path / Path(\"pkl/patt_fld8v.pkl\")\n",
    "\n",
    "# Estimates from evaluations\n",
    "sigma = -1  # According to the results here.\n",
    "B_z = -1  # According to the results here.\n",
    "\n",
    "animation_folder = Path(f\"../output/animations/spacetime_window/\")\n",
    "\n",
    "truncate_data = False\n",
    "truncate_at_snapshot = 20  # Including indices 0 to (truncate_at_snapshot - 1)\n",
    "\n",
    "test_size = 0.3\n",
    "\n",
    "input_window_shape = (3, 3, 3, 3)  # n_idx of (time, x, y, z) including center index.\n",
    "\n",
    "regularization_weight = 1.0"
   ]
  },
  {
   "cell_type": "markdown",
   "metadata": {},
   "source": [
    "##### Define output_indices"
   ]
  },
  {
   "cell_type": "code",
   "execution_count": 3,
   "metadata": {},
   "outputs": [],
   "source": [
    "# SELECT ONE:\n",
    "# 1: (1.5, 0, 0)\n",
    "# 2: (8, 0, 0)\n",
    "# ...\n",
    "# (x, y, z) in [0, 12.56637] x [-1, 1] x [-1, 1]\n",
    "location = 1\n",
    "\n",
    "# When closest coordinates are not determined yet.\n",
    "# Note: if 'True' is set for the first time, kernel must be restarted.\n",
    "find_closest_coordinates = False"
   ]
  },
  {
   "cell_type": "code",
   "execution_count": 4,
   "metadata": {},
   "outputs": [],
   "source": [
    "if location == 1:\n",
    "    x_coord_desired = 1.5\n",
    "    y_coord_desired = 0\n",
    "    z_coord_desired = 0\n",
    "    # closest available grid locations for desired ones have to be determined further below after data loading\n",
    "\n",
    "    # Adjust according to error message. No error will be thrown after correct declaration.\n",
    "    if Ha == 300:\n",
    "        x_coord = 1.489348\n",
    "        y_coord = 3.161188e-17\n",
    "        z_coord = 3.161188e-17\n",
    "        i_x = 64\n",
    "        i_y = 45\n",
    "        i_z = 45\n",
    "    elif Ha == 1000:\n",
    "        x_coord = np.nan\n",
    "        y_coord = np.nan\n",
    "        z_coord = np.nan\n",
    "        i_x = np.nan\n",
    "        i_y = np.nan\n",
    "        i_z = np.nan\n",
    "\n",
    "elif location == 2:\n",
    "    x_coord_desired = 8\n",
    "    y_coord_desired = 0\n",
    "    z_coord_desired = 0\n",
    "\n",
    "    # Adjust according to error message. No error will be thrown after correct declaration.\n",
    "    if Ha == 300:\n",
    "        x_coord = 8.005244\n",
    "        y_coord = 3.161188e-17\n",
    "        z_coord = 3.161188e-17\n",
    "        i_x = 344\n",
    "        i_y = 45\n",
    "        i_z = 45\n",
    "    elif Ha == 1000:\n",
    "        x_coord = np.nan\n",
    "        y_coord = np.nan\n",
    "        z_coord = np.nan\n",
    "        i_x = np.nan\n",
    "        i_y = np.nan\n",
    "        i_z = np.nan\n",
    "\n",
    "temporal_border_margin = 2\n",
    "output_indices = (\n",
    "    slice(temporal_border_margin, -temporal_border_margin),\n",
    "    slice(i_x, i_x + 1),\n",
    "    slice(i_y, i_y + 1),\n",
    "    slice(i_z, i_z + 1),\n",
    ")"
   ]
  },
  {
   "cell_type": "markdown",
   "metadata": {},
   "source": [
    "### Preamble"
   ]
  },
  {
   "cell_type": "code",
   "execution_count": 5,
   "metadata": {},
   "outputs": [],
   "source": [
    "mean_mse = {}  # Dict for gathering mean-squared-errors.\n",
    "\n",
    "n_window_indices = int(np.prod(list(input_window_shape)))"
   ]
  },
  {
   "cell_type": "markdown",
   "metadata": {},
   "source": [
    "### Load Data"
   ]
  },
  {
   "cell_type": "code",
   "execution_count": 6,
   "metadata": {},
   "outputs": [
    {
     "name": "stdout",
     "output_type": "stream",
     "text": [
      "Object successfully loaded from C:\\Users\\hydro\\Documents\\phd\\nuclear_fusion_cooling\\data\\4pi_re1000_ha300.360_ch28.p1\\patt_fld8v\\pkl\\patt_fld8v.pkl\n",
      "The 3D data looks as follows:\n",
      "N (number of snapshots) = 100\n",
      "n_x (grid depth) = 541, n_y (grid height) = 91, n_z (grid width) = 91, n_v (number of variables) = 8\n",
      "Labels:\n",
      "['vx', 'vy', 'vz', 'jx', 'jy', 'jz', 'P', 'F']\n",
      "Preview of the first snapshot (first 2 x, first 2 y, first 2 z) with coordinates:\n",
      "  (x=0.00, y=-1.00, z=-1.00): [ 0.000000e+00  0.000000e+00  0.000000e+00 -1.464999e-19  0.000000e+00\n",
      "  0.000000e+00 -4.031829e-04  1.353023e+00]\n",
      "  (x=0.00, y=-1.00, z=-0.99): [ 0.000000e+00  0.000000e+00  0.000000e+00  3.428746e-20  0.000000e+00\n",
      " -1.176754e-02 -4.036609e-04  1.353055e+00]\n",
      "  (x=0.00, y=-0.99, z=-1.00): [ 0.000000e+00  0.000000e+00  0.000000e+00 -4.206331e-19 -4.652879e-03\n",
      "  0.000000e+00 -4.037547e-04  1.353035e+00]\n",
      "  (x=0.00, y=-0.99, z=-0.99): [ 0.000000e+00  0.000000e+00  0.000000e+00 -1.286717e-21 -4.781152e-03\n",
      " -1.184628e-02 -4.044691e-04  1.353067e+00]\n",
      "  (x=0.02, y=-1.00, z=-1.00): [ 0.000000e+00  0.000000e+00  0.000000e+00  8.869907e-02  0.000000e+00\n",
      "  0.000000e+00 -3.996179e-04  1.352057e+00]\n",
      "  (x=0.02, y=-1.00, z=-0.99): [ 0.000000e+00  0.000000e+00  0.000000e+00  8.767896e-02  0.000000e+00\n",
      " -8.284445e-03 -3.996236e-04  1.352061e+00]\n",
      "  (x=0.02, y=-0.99, z=-1.00): [ 0.000000e+00  0.000000e+00  0.000000e+00  8.902626e-02 -2.946118e-02\n",
      "  0.000000e+00 -3.999166e-04  1.352157e+00]\n",
      "  (x=0.02, y=-0.99, z=-0.99): [-4.029667e-02 -1.362738e-03  4.253826e-03  8.600333e-02 -4.327022e-03\n",
      " -1.896452e-02 -3.999058e-04  1.352210e+00]\n"
     ]
    }
   ],
   "source": [
    "if 'fld_data' not in locals():\n",
    "    fld_data = load_object(fld_path)\n",
    "    if truncate_data:\n",
    "        fld_data['timeseries'] = fld_data['timeseries'][:truncate_at_snapshot]\n",
    "    fld_data['index_to_coord_map'] = create_index_to_coord_map(fld_data['coord_to_index_map'])\n",
    "print_xyz_slice_example_from_parsed_data(fld_data)\n",
    "\n",
    "N, n_x, n_y, n_z, n_v = fld_data['timeseries'].shape  # N = num snapshots"
   ]
  },
  {
   "cell_type": "markdown",
   "metadata": {},
   "source": [
    "### Get Existing x, y and z Coordinates"
   ]
  },
  {
   "cell_type": "code",
   "execution_count": 7,
   "metadata": {},
   "outputs": [],
   "source": [
    "# Fot initial determination of closest coordinates.\n",
    "if find_closest_coordinates:\n",
    "    x_coord = x_coord_desired\n",
    "    y_coord = y_coord_desired\n",
    "    z_coord = z_coord_desired\n",
    "i_x, i_y, i_z = find_closest_coordinate_index(\n",
    "    fld_data['coord_to_index_map'],\n",
    "    x_coord=x_coord,\n",
    "    y_coord=y_coord,\n",
    "    z_coord=z_coord,\n",
    ")"
   ]
  },
  {
   "cell_type": "markdown",
   "metadata": {},
   "source": [
    "### Define Train and Test Set"
   ]
  },
  {
   "cell_type": "code",
   "execution_count": 8,
   "metadata": {},
   "outputs": [],
   "source": [
    "fld_data_train, fld_data_test = train_test_split(\n",
    "    fld_data['timeseries'],\n",
    "    test_size=test_size,\n",
    "    shuffle=False,\n",
    ")\n",
    "\n",
    "# train\n",
    "output_indices_shape_train = fld_data_train[output_indices].shape[:-1]\n",
    "n_output_indices_train = int(np.prod(list(output_indices_shape_train)))\n",
    "\n",
    "# test\n",
    "output_indices_shape_test = fld_data_test[output_indices].shape[:-1]\n",
    "n_output_indices_test = int(np.prod(list(output_indices_shape_test)))\n",
    "\n",
    "n_time_output_indices_test = output_indices_shape_test[0]\n",
    "n_spatial_output_indices_test = int(np.prod(output_indices_shape_test[1:]))"
   ]
  },
  {
   "cell_type": "markdown",
   "metadata": {},
   "source": [
    "### Define $y_{true}$ and $y_{true}$-StandardScaler"
   ]
  },
  {
   "cell_type": "code",
   "execution_count": 9,
   "metadata": {},
   "outputs": [],
   "source": [
    "# train\n",
    "y_true_train = fld_data_train[\n",
    "    ...,\n",
    "    fld_data['labels'].index('vx'),\n",
    "]\n",
    "\n",
    "# Train SS on all training data to make it comparable to other output_indices.\n",
    "# Every grid point is an output feature. The scaling must not be different between these features => train SS on all data together.\n",
    "ss_y_true = StandardScaler()\n",
    "ss_y_true.fit(y_true_train.reshape(-1, 1))\n",
    "\n",
    "y_true_train = y_true_train[output_indices]\n",
    "y_true_train = ss_y_true.transform(\n",
    "    y_true_train.reshape(-1, 1),\n",
    ").reshape(*output_indices_shape_train)\n",
    "\n",
    "\n",
    "# test\n",
    "y_true_test = fld_data_test[\n",
    "    ...,\n",
    "    fld_data['labels'].index('vx'),\n",
    "]\n",
    "y_true_test = y_true_test[output_indices]\n",
    "y_true_test = ss_y_true.transform(\n",
    "    y_true_test.reshape(-1, 1),\n",
    ").reshape(*output_indices_shape_test)"
   ]
  },
  {
   "cell_type": "markdown",
   "metadata": {},
   "source": [
    "### Define Input Windows of $\\phi$ per $y_{true}$"
   ]
  },
  {
   "cell_type": "code",
   "execution_count": 10,
   "metadata": {},
   "outputs": [],
   "source": [
    "# phi_standard_scaler\n",
    "phi_train = fld_data_train[\n",
    "    ...,\n",
    "    fld_data['labels'].index('F'),\n",
    "]\n",
    "ss_phi = StandardScaler()\n",
    "ss_phi.fit(phi_train.reshape(-1, 1))\n",
    "\n",
    "#determine input_indices_for_windowing\n",
    "boundary_truncation = tuple(\n",
    "    (input_window_shape[dim] - 1) // 2 for dim in range(len(input_window_shape))\n",
    ")\n",
    "input_indices_for_windowing = tuple(\n",
    "    slice(\n",
    "        output_indices[dim].start - boundary_truncation[dim],\n",
    "        output_indices[dim].stop + boundary_truncation[dim],\n",
    "    ) for dim in range(len(output_indices))\n",
    ")\n",
    "\n",
    "# train\n",
    "phi_train = phi_train[input_indices_for_windowing]\n",
    "window_plane_shape_train = phi_train.shape\n",
    "phi_train = ss_phi.transform(phi_train.reshape(-1, 1)).reshape(\n",
    "    window_plane_shape_train,\n",
    ")\n",
    "windows_train = sliding_window_view(\n",
    "    phi_train,\n",
    "    input_window_shape,\n",
    ")\n",
    "\n",
    "# test\n",
    "phi_test = fld_data_test[\n",
    "    ...,\n",
    "    fld_data['labels'].index('F'),\n",
    "]\n",
    "phi_test = phi_test[input_indices_for_windowing]\n",
    "window_plane_shape_test= phi_test.shape\n",
    "phi_test = ss_phi.transform(phi_test.reshape(-1, 1)).reshape(\n",
    "    window_plane_shape_test,\n",
    ")\n",
    "windows_test = sliding_window_view(\n",
    "    phi_test,\n",
    "    input_window_shape,\n",
    ")"
   ]
  },
  {
   "cell_type": "markdown",
   "metadata": {},
   "source": [
    "### Linear Regression on Window"
   ]
  },
  {
   "cell_type": "markdown",
   "metadata": {},
   "source": [
    "##### Training"
   ]
  },
  {
   "cell_type": "code",
   "execution_count": 13,
   "metadata": {},
   "outputs": [],
   "source": [
    "lr_model = Ridge(alpha=regularization_weight)\n",
    "lr_model.fit(\n",
    "    X = windows_train.reshape(\n",
    "        n_output_indices_train,\n",
    "        n_window_indices,\n",
    "    ),\n",
    "    y = y_true_train.reshape(\n",
    "        n_output_indices_train,\n",
    "        1,\n",
    "    ),\n",
    ");"
   ]
  },
  {
   "cell_type": "markdown",
   "metadata": {},
   "source": [
    "##### Testing"
   ]
  },
  {
   "cell_type": "code",
   "execution_count": null,
   "metadata": {},
   "outputs": [
    {
     "name": "stdout",
     "output_type": "stream",
     "text": [
      "mse(LR) = 6.544999754232999\n"
     ]
    }
   ],
   "source": [
    "y_pred_lr = lr_model.predict(\n",
    "    windows_test.reshape(\n",
    "        n_output_indices_test,\n",
    "        n_window_indices,\n",
    "    ),\n",
    ")\n",
    "\n",
    "mse_lr = mean_squared_error(\n",
    "    y_true_test.reshape(\n",
    "        n_time_output_indices_test,\n",
    "        n_spatial_output_indices_test,\n",
    "    ),\n",
    "    y_pred_lr.reshape(\n",
    "        n_time_output_indices_test,\n",
    "        n_spatial_output_indices_test,\n",
    "    ),\n",
    "    multioutput='raw_values',\n",
    ")\n",
    "mean_mse_lr = np.mean(mse_lr)\n",
    "mean_mse['LR'] = float(mean_mse_lr)\n",
    "print(f\"mse(LR) = {mean_mse_lr}\")"
   ]
  },
  {
   "cell_type": "markdown",
   "metadata": {},
   "source": [
    "### Comparison"
   ]
  },
  {
   "cell_type": "code",
   "execution_count": 15,
   "metadata": {},
   "outputs": [
    {
     "data": {
      "text/plain": [
       "{'LR': 6.544999754232999}"
      ]
     },
     "execution_count": 15,
     "metadata": {},
     "output_type": "execute_result"
    }
   ],
   "source": [
    "mean_mse"
   ]
  },
  {
   "cell_type": "markdown",
   "metadata": {},
   "source": [
    "### Parameter Analysis"
   ]
  },
  {
   "cell_type": "code",
   "execution_count": 17,
   "metadata": {},
   "outputs": [
    {
     "data": {
      "image/png": "[encoded data removed]",
      "text/plain": [
       "<Figure size 640x480 with 1 Axes>"
      ]
     },
     "metadata": {},
     "output_type": "display_data"
    }
   ],
   "source": [
    "params = lr_model.coef_.reshape(*input_window_shape)\n",
    "plot_histogram(params.flatten())"
   ]
  },
  {
   "cell_type": "code",
   "execution_count": 18,
   "metadata": {},
   "outputs": [
    {
     "name": "stdout",
     "output_type": "stream",
     "text": [
      "threshold = 0.15402274578810707\n",
      "zeros: 25\n",
      "non-zeros: 56\n"
     ]
    }
   ],
   "source": [
    "ratio = 0.95\n",
    "\n",
    "param_truncated, threshold = zero_smallest_absolute_to_meet_ratio(params, ratio)\n",
    "print(f\"threshold = {threshold}\")\n",
    "print(f\"zeros: {int(np.sum(param_truncated == 0))}\")\n",
    "print(f\"non-zeros: {int(np.sum(param_truncated != 0))}\")"
   ]
  }
 ],
 "metadata": {
  "kernelspec": {
   "display_name": "mhd_cae_koopman",
   "language": "python",
   "name": "python3"
  },
  "language_info": {
   "codemirror_mode": {
    "name": "ipython",
    "version": 3
   },
   "file_extension": ".py",
   "mimetype": "text/x-python",
   "name": "python",
   "nbconvert_exporter": "python",
   "pygments_lexer": "ipython3",
   "version": "3.12.11"
  }
 },
 "nbformat": 4,
 "nbformat_minor": 2
}
