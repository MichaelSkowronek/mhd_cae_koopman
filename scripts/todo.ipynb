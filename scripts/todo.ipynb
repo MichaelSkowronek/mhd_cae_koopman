{
 "cells": [
  {
   "cell_type": "markdown",
   "metadata": {},
   "source": [
    "# TODO\n",
    "\n",
    "- data preprocessing\n",
    "    - add row-major to the vxyz data as well!!\n",
    "    - cp all dxyz (scp .\\dv.zip mhd_cae_koopman:/cephfs/users/skowronek/Documents/PhD/nuclear_fusion_cooling/data/re1000_ha300/3d/)\n",
    "    - try dxyz parsing (dmitry mail)\n",
    "        - stopped at row-major change\n",
    "    - convert dxyz to pkl format\n",
    "    - merge data\n",
    "- Build/Test autoencoder\n",
    "- Add Koopman"
   ]
  }
 ],
 "metadata": {
  "kernelspec": {
   "display_name": "potential_probe",
   "language": "python",
   "name": "python3"
  },
  "language_info": {
   "codemirror_mode": {
    "name": "ipython",
    "version": 3
   },
   "file_extension": ".py",
   "mimetype": "text/x-python",
   "name": "python",
   "nbconvert_exporter": "python",
   "pygments_lexer": "ipython3",
   "version": "3.12.9"
  }
 },
 "nbformat": 4,
 "nbformat_minor": 2
}
