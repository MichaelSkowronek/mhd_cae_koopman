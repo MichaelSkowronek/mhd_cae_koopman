{
 "cells": [
  {
   "cell_type": "markdown",
   "metadata": {},
   "source": [
    "# TODO\n",
    "\n",
    "- data preprocessing\n",
    "    - add C order\n",
    "        - vxyz\n",
    "    - vxyz parsing efficient algo\n",
    "    - merge data\n",
    "    - del testing\n",
    "- Build/Test autoencoder\n",
    "- Add Koopman"
   ]
  }
 ],
 "metadata": {
  "kernelspec": {
   "display_name": "potential_probe",
   "language": "python",
   "name": "python3"
  },
  "language_info": {
   "codemirror_mode": {
    "name": "ipython",
    "version": 3
   },
   "file_extension": ".py",
   "mimetype": "text/x-python",
   "name": "python",
   "nbconvert_exporter": "python",
   "pygments_lexer": "ipython3",
   "version": "3.12.9"
  }
 },
 "nbformat": 4,
 "nbformat_minor": 2
}
