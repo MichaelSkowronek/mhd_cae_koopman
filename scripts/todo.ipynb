{
 "cells": [
  {
   "cell_type": "markdown",
   "metadata": {},
   "source": [
    "# TODO\n",
    "\n",
    "- data preprocessing\n",
    "    - cp all dxyz (scp .\\dv.zip mhd_cae_koopman:/cephfs/users/skowronek/Documents/PhD/nuclear_fusion_cooling/data/re1000_ha300/3d/)\n",
    "    - dxyz parsing (ha1000-, dv, dw left) (python store_duvw_as_pickle.py --ha 1000 --file_name du.dat --data_dir ../../../../../data/ --verify)\n",
    "    - vxyz parsing efficient algo\n",
    "    - merge data\n",
    "- Build/Test autoencoder\n",
    "- Add Koopman"
   ]
  }
 ],
 "metadata": {
  "kernelspec": {
   "display_name": "potential_probe",
   "language": "python",
   "name": "python3"
  },
  "language_info": {
   "codemirror_mode": {
    "name": "ipython",
    "version": 3
   },
   "file_extension": ".py",
   "mimetype": "text/x-python",
   "name": "python",
   "nbconvert_exporter": "python",
   "pygments_lexer": "ipython3",
   "version": "3.12.9"
  }
 },
 "nbformat": 4,
 "nbformat_minor": 2
}
