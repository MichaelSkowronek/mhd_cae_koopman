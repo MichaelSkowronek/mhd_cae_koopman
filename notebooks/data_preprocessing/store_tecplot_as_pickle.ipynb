{
 "cells": [
  {
   "cell_type": "markdown",
   "metadata": {},
   "source": [
    "# store_tecplot_as_pickle"
   ]
  },
  {
   "cell_type": "markdown",
   "metadata": {},
   "source": [
    "### TODO"
   ]
  },
  {
   "cell_type": "markdown",
   "metadata": {},
   "source": [
    "### Imports"
   ]
  },
  {
   "cell_type": "code",
   "execution_count": 1,
   "metadata": {},
   "outputs": [],
   "source": [
    "from pathlib import Path\n",
    "\n",
    "\n",
    "from mhd_cae_koopman.utils import save_object\n",
    "from mhd_cae_koopman.utils import load_object\n",
    "\n",
    "from mhd_cae_koopman.data_processing.tecplot_data import parse_tecplot_timeseries\n",
    "from mhd_cae_koopman.data_processing.utils import print_timeseries_info"
   ]
  },
  {
   "cell_type": "markdown",
   "metadata": {},
   "source": [
    "### General Args"
   ]
  },
  {
   "cell_type": "code",
   "execution_count": 2,
   "metadata": {},
   "outputs": [],
   "source": [
    "Ha = 300\n",
    "# file_name = \"vxyz_jxyz_p_f\"\n",
    "file_name = \"dv\"\n",
    "\n",
    "data_dir = Path(f\"../../../../../data/re1000_ha{Ha}/3d/\")\n",
    "tecplot_file_path = data_dir / Path(f\"{file_name}/{file_name}.dat\")\n",
    "\n",
    "pkl_store_file_path = data_dir / Path(f\"pkl/{file_name}.pkl\")\n",
    "\n",
    "print_loaded_data_example_ = True"
   ]
  },
  {
   "cell_type": "markdown",
   "metadata": {},
   "source": [
    "### Testing on Truncated Data"
   ]
  },
  {
   "cell_type": "code",
   "execution_count": 3,
   "metadata": {},
   "outputs": [
    {
     "name": "stdout",
     "output_type": "stream",
     "text": [
      "An error occurred: 'utf-8' codec can't decode bytes in position 26-27: invalid continuation byte\n"
     ]
    }
   ],
   "source": [
    "from mhd_cae_koopman.data_processing.utils import truncate_file_at_line\n",
    "\n",
    "pkl_store_file_path = data_dir / Path(f\"pkl/{file_name}_truncated.pkl\")\n",
    "\n",
    "if Ha == 300:\n",
    "    # snapshot_length = 4488305\n",
    "    snapshot_length = 10\n",
    "elif Ha == 500:\n",
    "    snapshot_length = 4488305  # Test it\n",
    "elif Ha == 700:\n",
    "    snapshot_length = 5438405\n",
    "elif Ha == 1000:\n",
    "    snapshot_length = 5438405\n",
    "\n",
    "n_snapshots = 2\n",
    "\n",
    "tecplot_file_path = truncate_file_at_line(\n",
    "    filepath=tecplot_file_path,\n",
    "    line_number=snapshot_length * n_snapshots,\n",
    ")"
   ]
  },
  {
   "cell_type": "code",
   "execution_count": 11,
   "metadata": {},
   "outputs": [],
   "source": [
    "# pkl_store_file_path = data_dir / Path(f\"pkl/{file_name}_truncated.pkl\")\n",
    "# tecplot_file_path = Path(fr\"C:\\Users\\hydro\\Documents\\PhD\\nuclear_fusion_cooling\\data\\re1000_ha{Ha}\\3d\\{file_name}\\{file_name}_truncated.dat\")"
   ]
  },
  {
   "cell_type": "markdown",
   "metadata": {},
   "source": [
    "### Load"
   ]
  },
  {
   "cell_type": "code",
   "execution_count": 12,
   "metadata": {},
   "outputs": [
    {
     "ename": "TypeError",
     "evalue": "argument should be a str or an os.PathLike object where __fspath__ returns a str, not 'NoneType'",
     "output_type": "error",
     "traceback": [
      "\u001b[31m---------------------------------------------------------------------------\u001b[39m",
      "\u001b[31mTypeError\u001b[39m                                 Traceback (most recent call last)",
      "\u001b[36mCell\u001b[39m\u001b[36m \u001b[39m\u001b[32mIn[12]\u001b[39m\u001b[32m, line 5\u001b[39m\n\u001b[32m      1\u001b[39m data = {}\n\u001b[32m      2\u001b[39m (\n\u001b[32m      3\u001b[39m     data[\u001b[33m'\u001b[39m\u001b[33mtimeseries\u001b[39m\u001b[33m'\u001b[39m],\n\u001b[32m      4\u001b[39m     data[\u001b[33m'\u001b[39m\u001b[33mlabels\u001b[39m\u001b[33m'\u001b[39m],\n\u001b[32m----> \u001b[39m\u001b[32m5\u001b[39m ) = parse_tecplot_timeseries(tecplot_file_path)\n\u001b[32m      6\u001b[39m \u001b[38;5;28;01mif\u001b[39;00m print_loaded_data_example_ \u001b[38;5;129;01mis\u001b[39;00m \u001b[38;5;28;01mTrue\u001b[39;00m:\n\u001b[32m      7\u001b[39m     print_timeseries_info(data[\u001b[33m'\u001b[39m\u001b[33mtimeseries\u001b[39m\u001b[33m'\u001b[39m], data[\u001b[33m'\u001b[39m\u001b[33mlabels\u001b[39m\u001b[33m'\u001b[39m])\n",
      "\u001b[36mFile \u001b[39m\u001b[32mc:\\Users\\hydro\\anaconda3\\envs\\mhd_cae_koopman\\Lib\\site-packages\\mhd_cae_koopman\\data_processing\\tecplot_data.py:47\u001b[39m, in \u001b[36mparse_tecplot_timeseries\u001b[39m\u001b[34m(file_path, dtype)\u001b[39m\n\u001b[32m     17\u001b[39m \u001b[38;5;28;01mdef\u001b[39;00m\u001b[38;5;250m \u001b[39m\u001b[34mparse_tecplot_timeseries\u001b[39m(\n\u001b[32m     18\u001b[39m     file_path,\n\u001b[32m     19\u001b[39m     *,\n\u001b[32m     20\u001b[39m     dtype=\u001b[38;5;28mfloat\u001b[39m,\n\u001b[32m     21\u001b[39m ):\n\u001b[32m     22\u001b[39m \u001b[38;5;250m    \u001b[39m\u001b[33;03m\"\"\"Parses a Tecplot ASCII timeseries file into a 3D NumPy array.\u001b[39;00m\n\u001b[32m     23\u001b[39m \n\u001b[32m     24\u001b[39m \u001b[33;03m    This function reads a Tecplot data file structured with distinct time steps,\u001b[39;00m\n\u001b[32m   (...)\u001b[39m\u001b[32m     45\u001b[39m \u001b[33;03m            - list: A list of strings containing the variable headers.\u001b[39;00m\n\u001b[32m     46\u001b[39m \u001b[33;03m    \"\"\"\u001b[39;00m\n\u001b[32m---> \u001b[39m\u001b[32m47\u001b[39m     file_path = Path(file_path)\n\u001b[32m     49\u001b[39m     \u001b[38;5;66;03m# Precompile case-insensitive regex patterns for parsing Tecplot keywords.\u001b[39;00m\n\u001b[32m     50\u001b[39m     re_title = re.compile(\u001b[33mr\u001b[39m\u001b[33m'\u001b[39m\u001b[33mtitle\u001b[39m\u001b[33m'\u001b[39m, re.IGNORECASE)\n",
      "\u001b[36mFile \u001b[39m\u001b[32mc:\\Users\\hydro\\anaconda3\\envs\\mhd_cae_koopman\\Lib\\pathlib.py:1162\u001b[39m, in \u001b[36mPath.__init__\u001b[39m\u001b[34m(self, *args, **kwargs)\u001b[39m\n\u001b[32m   1159\u001b[39m     msg = (\u001b[33m\"\u001b[39m\u001b[33msupport for supplying keyword arguments to pathlib.PurePath \u001b[39m\u001b[33m\"\u001b[39m\n\u001b[32m   1160\u001b[39m            \u001b[33m\"\u001b[39m\u001b[33mis deprecated and scheduled for removal in Python \u001b[39m\u001b[38;5;132;01m{remove}\u001b[39;00m\u001b[33m\"\u001b[39m)\n\u001b[32m   1161\u001b[39m     warnings._deprecated(\u001b[33m\"\u001b[39m\u001b[33mpathlib.PurePath(**kwargs)\u001b[39m\u001b[33m\"\u001b[39m, msg, remove=(\u001b[32m3\u001b[39m, \u001b[32m14\u001b[39m))\n\u001b[32m-> \u001b[39m\u001b[32m1162\u001b[39m \u001b[38;5;28msuper\u001b[39m().\u001b[34m__init__\u001b[39m(*args)\n",
      "\u001b[36mFile \u001b[39m\u001b[32mc:\\Users\\hydro\\anaconda3\\envs\\mhd_cae_koopman\\Lib\\pathlib.py:373\u001b[39m, in \u001b[36mPurePath.__init__\u001b[39m\u001b[34m(self, *args)\u001b[39m\n\u001b[32m    371\u001b[39m             path = arg\n\u001b[32m    372\u001b[39m         \u001b[38;5;28;01mif\u001b[39;00m \u001b[38;5;129;01mnot\u001b[39;00m \u001b[38;5;28misinstance\u001b[39m(path, \u001b[38;5;28mstr\u001b[39m):\n\u001b[32m--> \u001b[39m\u001b[32m373\u001b[39m             \u001b[38;5;28;01mraise\u001b[39;00m \u001b[38;5;167;01mTypeError\u001b[39;00m(\n\u001b[32m    374\u001b[39m                 \u001b[33m\"\u001b[39m\u001b[33margument should be a str or an os.PathLike \u001b[39m\u001b[33m\"\u001b[39m\n\u001b[32m    375\u001b[39m                 \u001b[33m\"\u001b[39m\u001b[33mobject where __fspath__ returns a str, \u001b[39m\u001b[33m\"\u001b[39m\n\u001b[32m    376\u001b[39m                 \u001b[33mf\u001b[39m\u001b[33m\"\u001b[39m\u001b[33mnot \u001b[39m\u001b[38;5;132;01m{\u001b[39;00m\u001b[38;5;28mtype\u001b[39m(path).\u001b[34m__name__\u001b[39m\u001b[38;5;132;01m!r}\u001b[39;00m\u001b[33m\"\u001b[39m)\n\u001b[32m    377\u001b[39m         paths.append(path)\n\u001b[32m    378\u001b[39m \u001b[38;5;28mself\u001b[39m._raw_paths = paths\n",
      "\u001b[31mTypeError\u001b[39m: argument should be a str or an os.PathLike object where __fspath__ returns a str, not 'NoneType'"
     ]
    }
   ],
   "source": [
    "data = {}\n",
    "(\n",
    "    data['timeseries'],\n",
    "    data['labels'],\n",
    ") = parse_tecplot_timeseries(tecplot_file_path)\n",
    "if print_loaded_data_example_ is True:\n",
    "    print_timeseries_info(data['timeseries'], data['labels'])"
   ]
  },
  {
   "cell_type": "markdown",
   "metadata": {},
   "source": [
    "### Store"
   ]
  },
  {
   "cell_type": "code",
   "execution_count": null,
   "metadata": {},
   "outputs": [
    {
     "name": "stdout",
     "output_type": "stream",
     "text": [
      "Object successfully saved to C:\\Users\\hydro\\Documents\\PhD\\nuclear_fusion_cooling\\data\\re1000_ha300\\3d\\pkl\\vxyz_jxyz_p_f_truncated.pkl\n"
     ]
    }
   ],
   "source": [
    "save_object(data, pkl_store_file_path)"
   ]
  },
  {
   "cell_type": "markdown",
   "metadata": {},
   "source": [
    "### Verification"
   ]
  },
  {
   "cell_type": "code",
   "execution_count": null,
   "metadata": {},
   "outputs": [
    {
     "name": "stdout",
     "output_type": "stream",
     "text": [
      "Object successfully loaded from C:\\Users\\hydro\\Documents\\PhD\\nuclear_fusion_cooling\\data\\re1000_ha300\\3d\\pkl\\vxyz_jxyz_p_f_truncated.pkl\n",
      "\n",
      "==============================\n",
      "Timeseries Data Summary\n",
      "==============================\n",
      "Number of snapshots (time steps): 2\n",
      "Number of points per snapshot:    4480021\n",
      "Number of variables:              11\n",
      "Calculated grid dimensions:       541 x 91 x 91 (using indices (0, 1, 2))\n",
      "\n",
      "--- Variable Labels ---\n",
      "['x', 'y', 'z', 'vx', 'vy', 'vz', 'jx', 'jy', 'jz', 'P', 'F']\n",
      "\n",
      "--- Data Preview (First 5 points of first snapshot) ---\n",
      "  Point 1 : [ 0.000000e+00 -1.000000e+00 -1.000000e+00  0.000000e+00  0.000000e+00\n",
      "  0.000000e+00 -1.464999e-19  0.000000e+00  0.000000e+00 -4.031829e-04\n",
      "  1.353023e+00]\n",
      "  Point 2 : [ 2.327106e-02 -1.000000e+00 -1.000000e+00  0.000000e+00  0.000000e+00\n",
      "  0.000000e+00  8.869907e-02  0.000000e+00  0.000000e+00 -3.996179e-04\n",
      "  1.352057e+00]\n",
      "  Point 3 : [ 4.654211e-02 -1.000000e+00 -1.000000e+00  0.000000e+00  0.000000e+00\n",
      "  0.000000e+00  1.778942e-01  0.000000e+00  0.000000e+00 -3.986544e-04\n",
      "  1.348849e+00]\n",
      "  Point 4 : [ 6.981317e-02 -1.000000e+00 -1.000000e+00  0.000000e+00  0.000000e+00\n",
      "  0.000000e+00  1.965593e-01  0.000000e+00  0.000000e+00 -4.007815e-04\n",
      "  1.344313e+00]\n",
      "  Point 5 : [ 9.308423e-02 -1.000000e+00 -1.000000e+00  0.000000e+00  0.000000e+00\n",
      "  0.000000e+00  1.472270e-01  0.000000e+00  0.000000e+00 -4.046824e-04\n",
      "  1.340216e+00]\n",
      "==============================\n"
     ]
    }
   ],
   "source": [
    "loaded_data = load_object(pkl_store_file_path)\n",
    "print_timeseries_info(loaded_data['timeseries'], loaded_data['labels'])"
   ]
  }
 ],
 "metadata": {
  "kernelspec": {
   "display_name": "mhd_cae_koopman",
   "language": "python",
   "name": "python3"
  },
  "language_info": {
   "codemirror_mode": {
    "name": "ipython",
    "version": 3
   },
   "file_extension": ".py",
   "mimetype": "text/x-python",
   "name": "python",
   "nbconvert_exporter": "python",
   "pygments_lexer": "ipython3",
   "version": "3.12.11"
  }
 },
 "nbformat": 4,
 "nbformat_minor": 2
}
