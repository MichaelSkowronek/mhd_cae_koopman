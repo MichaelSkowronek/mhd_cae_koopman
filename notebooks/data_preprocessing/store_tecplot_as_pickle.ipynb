{
 "cells": [
  {
   "cell_type": "markdown",
   "metadata": {},
   "source": [
    "# store_tecplot_as_pickle"
   ]
  },
  {
   "cell_type": "markdown",
   "metadata": {},
   "source": [
    "### TODO"
   ]
  },
  {
   "cell_type": "markdown",
   "metadata": {},
   "source": [
    "### Imports"
   ]
  },
  {
   "cell_type": "code",
   "execution_count": null,
   "metadata": {},
   "outputs": [],
   "source": [
    "from pathlib import Path\n",
    "\n",
    "\n",
    "from mhd_cae_koopman.utils import save_object\n",
    "from mhd_cae_koopman.utils import load_object\n",
    "from mhd_cae_koopman.utils import print_timeseries_info\n",
    "\n",
    "from mhd_cae_koopman.data_processing.tecplot_data import parse_tecplot_timeseries"
   ]
  },
  {
   "cell_type": "markdown",
   "metadata": {},
   "source": [
    "### General Args"
   ]
  },
  {
   "cell_type": "code",
   "execution_count": 2,
   "metadata": {},
   "outputs": [],
   "source": [
    "Ha = 300\n",
    "file_name = \"vxyz_jxyz_p_f\"\n",
    "\n",
    "data_dir = Path(f\"../../../../../data/re1000_ha{Ha}/3d/\")\n",
    "tecplot_file_path = data_dir / Path(f\"{file_name}/{file_name}.dat\")\n",
    "\n",
    "pkl_store_file_path = data_dir / Path(f\"pkl/{file_name}.pkl\")\n",
    "\n",
    "print_loaded_data_example_ = True"
   ]
  },
  {
   "cell_type": "markdown",
   "metadata": {},
   "source": [
    "### Testing on Truncated Data"
   ]
  },
  {
   "cell_type": "code",
   "execution_count": 3,
   "metadata": {},
   "outputs": [],
   "source": [
    "# from mhd_cae_koopman.data_processing.utils import truncate_file_at_line\n",
    "\n",
    "# pkl_store_file_path = data_dir / Path(f\"pkl/{file_name}_truncated.pkl\")\n",
    "\n",
    "# if Ha == 300:\n",
    "#     snapshot_length = 4488305\n",
    "# elif Ha == 500:\n",
    "#     snapshot_length = 4488305  # Test it\n",
    "# elif Ha == 700:\n",
    "#     snapshot_length = 5438405\n",
    "# elif Ha == 1000:\n",
    "#     snapshot_length = 5438405\n",
    "\n",
    "# n_snapshots = 2\n",
    "\n",
    "# tecplot_file_path = truncate_file_at_line(\n",
    "#     filepath=tecplot_file_path,\n",
    "#     line_number=snapshot_length * n_snapshots,\n",
    "# )"
   ]
  },
  {
   "cell_type": "code",
   "execution_count": 4,
   "metadata": {},
   "outputs": [],
   "source": [
    "# pkl_store_file_path = data_dir / Path(f\"pkl/{file_name}_truncated.pkl\")\n",
    "# tecplot_file_path = Path(fr\"C:\\Users\\hydro\\Documents\\PhD\\nuclear_fusion_cooling\\data\\re1000_ha{Ha}\\3d\\{file_name}\\{file_name}_truncated.dat\")"
   ]
  },
  {
   "cell_type": "markdown",
   "metadata": {},
   "source": [
    "### Load"
   ]
  },
  {
   "cell_type": "code",
   "execution_count": null,
   "metadata": {},
   "outputs": [],
   "source": [
    "data = {}\n",
    "(\n",
    "    data['timeseries'],\n",
    "    data['labels'],\n",
    ") = parse_tecplot_timeseries(tecplot_file_path)\n",
    "if print_loaded_data_example_ is True:\n",
    "    print_timeseries_info(data['timeseries'], data['labels'])"
   ]
  },
  {
   "cell_type": "markdown",
   "metadata": {},
   "source": [
    "### Store"
   ]
  },
  {
   "cell_type": "code",
   "execution_count": null,
   "metadata": {},
   "outputs": [
    {
     "name": "stdout",
     "output_type": "stream",
     "text": [
      "Object successfully saved to C:\\Users\\hydro\\Documents\\PhD\\nuclear_fusion_cooling\\data\\re1000_ha1000\\3d\\pkl\\vxyz_jxyz_p_f_truncated.pkl\n"
     ]
    }
   ],
   "source": [
    "save_object(data, pkl_store_file_path)"
   ]
  },
  {
   "cell_type": "markdown",
   "metadata": {},
   "source": [
    "### Verification"
   ]
  },
  {
   "cell_type": "code",
   "execution_count": null,
   "metadata": {},
   "outputs": [
    {
     "name": "stdout",
     "output_type": "stream",
     "text": [
      "Object successfully loaded from C:\\Users\\hydro\\Documents\\PhD\\nuclear_fusion_cooling\\data\\re1000_ha1000\\3d\\pkl\\vxyz_jxyz_p_f_truncated.pkl\n",
      "\n",
      "==============================\n",
      "Timeseries Data Summary\n",
      "==============================\n",
      "Number of snapshots (time steps): 2\n",
      "Number of points per snapshot:    5428993\n",
      "Number of variables:              11\n",
      "Calculated grid dimensions:       577 x 97 x 97 (using indices (0, 1, 2))\n",
      "\n",
      "--- Variable Labels ---\n",
      "['x', 'y', 'z', 'vx', 'vy', 'vz', 'jx', 'jy', 'jz', 'P', 'F']\n",
      "\n",
      "--- Data Preview (First 5 points of first snapshot) ---\n",
      "  Point 1 : [ 0.000000e+00 -1.000000e+00 -1.000000e+00  0.000000e+00  0.000000e+00\n",
      "  0.000000e+00  0.000000e+00  0.000000e+00  0.000000e+00  7.036579e-04\n",
      " -1.506608e-01]\n",
      "  Point 2 : [ 2.181662e-02 -1.000000e+00 -1.000000e+00  0.000000e+00  0.000000e+00\n",
      "  0.000000e+00 -1.667895e+00  0.000000e+00  0.000000e+00  6.524514e-04\n",
      " -1.327779e-01]\n",
      "  Point 3 : [ 4.363323e-02 -1.000000e+00 -1.000000e+00  0.000000e+00  0.000000e+00\n",
      "  0.000000e+00 -1.735910e+00  0.000000e+00  0.000000e+00  6.783174e-04\n",
      " -9.157067e-02]\n",
      "  Point 4 : [ 6.544985e-02 -1.000000e+00 -1.000000e+00  0.000000e+00  0.000000e+00\n",
      "  0.000000e+00 -1.061551e+00  0.000000e+00  0.000000e+00  6.313638e-04\n",
      " -6.089002e-02]\n",
      "  Point 5 : [ 8.726646e-02 -1.000000e+00 -1.000000e+00  0.000000e+00  0.000000e+00\n",
      "  0.000000e+00 -5.124129e-01  0.000000e+00  0.000000e+00  5.317983e-04\n",
      " -4.421811e-02]\n",
      "==============================\n"
     ]
    }
   ],
   "source": [
    "loaded_data = load_object(pkl_store_file_path)\n",
    "print_timeseries_info(loaded_data['timeseries'], loaded_data['labels'])"
   ]
  }
 ],
 "metadata": {
  "kernelspec": {
   "display_name": "mhd_cae_koopman",
   "language": "python",
   "name": "python3"
  },
  "language_info": {
   "codemirror_mode": {
    "name": "ipython",
    "version": 3
   },
   "file_extension": ".py",
   "mimetype": "text/x-python",
   "name": "python",
   "nbconvert_exporter": "python",
   "pygments_lexer": "ipython3",
   "version": "3.12.11"
  }
 },
 "nbformat": 4,
 "nbformat_minor": 2
}
