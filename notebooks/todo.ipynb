{
 "cells": [
  {
   "cell_type": "markdown",
   "metadata": {},
   "source": [
    "# TODO\n",
    "\n",
    "- data preprocessing\n",
    "    - load all vxyz...\n",
    "    - cp all vxyz... to server (stopped: gemini cp guide)\n",
    "    - if du, dv, dz is real (answer from Dmitry):\n",
    "        - cp them\n",
    "        - merge\n",
    "- Build/Test autoencoder\n",
    "- Add Koopman"
   ]
  }
 ],
 "metadata": {
  "kernelspec": {
   "display_name": "potential_probe",
   "language": "python",
   "name": "python3"
  },
  "language_info": {
   "codemirror_mode": {
    "name": "ipython",
    "version": 3
   },
   "file_extension": ".py",
   "mimetype": "text/x-python",
   "name": "python",
   "nbconvert_exporter": "python",
   "pygments_lexer": "ipython3",
   "version": "3.12.9"
  }
 },
 "nbformat": 4,
 "nbformat_minor": 2
}
